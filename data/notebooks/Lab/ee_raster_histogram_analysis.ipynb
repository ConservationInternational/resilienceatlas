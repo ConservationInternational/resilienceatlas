{
 "cells": [
  {
   "cell_type": "markdown",
   "metadata": {
    "toc": "true"
   },
   "source": [
    "# Table of Contents\n",
    " <p><div class=\"lev1 toc-item\"><a href=\"#Analysis-queries\" data-toc-modified-id=\"Analysis-queries-1\"><span class=\"toc-item-num\">1&nbsp;&nbsp;</span>Analysis queries</a></div>"
   ]
  },
  {
   "cell_type": "code",
   "execution_count": 1,
   "metadata": {},
   "outputs": [],
   "source": [
    "import requests\n",
    "import json"
   ]
  },
  {
   "cell_type": "markdown",
   "metadata": {},
   "source": [
    "# Analysis queries \n",
    "### Layers"
   ]
  },
  {
   "cell_type": "markdown",
   "metadata": {},
   "source": [
    "depending the type of analysis we do have:\n",
    "rasters layers\n",
    "* Histogram query\n",
    "```sql\n",
    " SELECT (ST_Histogram(ST_Union(the_raster_webmercator))).*  \n",
    " FROM <table_name>\n",
    "where st_intersects(the_raster_webmercator, st_transform(ST_SetSRID (ST_GeomFromGeoJSON('{{geometry}}'),4326),3857))\n",
    "```\n",
    "\n",
    "* statistics query\n",
    "```sql\n",
    "SELECT (ST_SummaryStatsAgg(the_raster_webmercator,1,true)).*  \n",
    "FROM <table_name> \n",
    "where st_intersects(the_raster_webmercator, st_transform(ST_SetSRID (ST_GeomFromGeoJSON('{{geometry}}'),4326),3857))\n",
    "``` \n",
    "\n",
    "\n",
    "geometry layers\n",
    "- We need a way to discern between what might be interesting. Geometry intersection + which fields do we want to have\n",
    "```sql\n",
    "SELECT [whatever] \n",
    "FROM <table_name> \n",
    "where st_intersects(the_geom,ST_SetSRID (ST_GeomFromGeoJSON('{\"type\":\"Polygon\",\"coordinates\":[[[34.1015625,1.7575368113083254],[38.49609375,1.7575368113083254],[38.49609375,7.100892668623654],[34.1015625,7.100892668623654],[34.1015625,1.7575368113083254]]]}'),4326)) group by  [whatever]\n",
    "``` "
   ]
  },
  {
   "cell_type": "code",
   "execution_count": null,
   "metadata": {},
   "outputs": [],
   "source": []
  }
 ],
 "metadata": {
  "kernelspec": {
   "display_name": "Python 3",
   "language": "python",
   "name": "python3"
  },
  "language_info": {
   "codemirror_mode": {
    "name": "ipython",
    "version": 3
   },
   "file_extension": ".py",
   "mimetype": "text/x-python",
   "name": "python",
   "nbconvert_exporter": "python",
   "pygments_lexer": "ipython3",
   "version": "3.8.8"
  },
  "toc": {
   "colors": {
    "hover_highlight": "#DAA520",
    "navigate_num": "#000000",
    "navigate_text": "#333333",
    "running_highlight": "#FF0000",
    "selected_highlight": "#FFD700",
    "sidebar_border": "#EEEEEE",
    "wrapper_background": "#FFFFFF"
   },
   "moveMenuLeft": true,
   "nav_menu": {
    "height": "48px",
    "width": "252px"
   },
   "navigate_menu": true,
   "number_sections": true,
   "sideBar": true,
   "threshold": "2",
   "toc_cell": true,
   "toc_section_display": "block",
   "toc_window_display": true,
   "widenNotebook": false
  },
  "varInspector": {
   "cols": {
    "lenName": 16,
    "lenType": 16,
    "lenVar": 40
   },
   "kernels_config": {
    "python": {
     "delete_cmd_postfix": "",
     "delete_cmd_prefix": "del ",
     "library": "var_list.py",
     "varRefreshCmd": "print(var_dic_list())"
    },
    "r": {
     "delete_cmd_postfix": ") ",
     "delete_cmd_prefix": "rm(",
     "library": "var_list.r",
     "varRefreshCmd": "cat(var_dic_list()) "
    }
   },
   "types_to_exclude": [
    "module",
    "function",
    "builtin_function_or_method",
    "instance",
    "_Feature"
   ],
   "window_display": false
  }
 },
 "nbformat": 4,
 "nbformat_minor": 4
}
