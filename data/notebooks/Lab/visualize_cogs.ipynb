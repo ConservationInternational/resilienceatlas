{
 "cells": [
  {
   "cell_type": "code",
   "execution_count": 1,
   "id": "694805e5-d604-462e-b390-eade01c36de8",
   "metadata": {
    "tags": []
   },
   "outputs": [
    {
     "name": "stdout",
     "output_type": "stream",
     "text": [
      "%pylab is deprecated, use %matplotlib inline and import the required libraries.\n",
      "Populating the interactive namespace from numpy and matplotlib\n"
     ]
    }
   ],
   "source": [
    "import requests\n",
    "import json\n",
    "from folium import Map, TileLayer\n",
    "from io import BytesIO\n",
    "import rasterio\n",
    "import urllib\n",
    "\n",
    "%pylab inline"
   ]
  },
  {
   "cell_type": "code",
   "execution_count": null,
   "id": "1f0445e7",
   "metadata": {},
   "outputs": [],
   "source": [
    "# For categorical data:\n",
    "gdal_translate -of COG -co TILING_SCHEME=GoogleMapsCompatible -co COMPRESS=LZW -co RESAMPLING=NEAREST -co OVERVIEW_RESAMPLING=MODE -co WARP_RESAMPLING=NEAREST -co OVERVIEWS=IGNORE_EXISTING ./masked_globcover.tif ./globcover_cog_test.tif"
   ]
  },
  {
   "cell_type": "code",
   "execution_count": null,
   "id": "200e5f19",
   "metadata": {},
   "outputs": [],
   "source": [
    "# For continous data:\n",
    "gdal_translate -of COG -co TILING_SCHEME=GoogleMapsCompatible -co COMPRESS=LZW -co RESAMPLING=BILINEAR -co OVERVIEW_RESAMPLING=BILINEAR -co WARP_RESAMPLING=NEAREST -co OVERVIEWS=IGNORE_EXISTING ./spam2017V2r1_SSA_H_WHEA_A.tif ./spam_wheat_cog.tif"
   ]
  },
  {
   "cell_type": "code",
   "execution_count": 18,
   "id": "d855c610-06f4-41ad-94ab-4b4e40ac4cbe",
   "metadata": {
    "tags": []
   },
   "outputs": [],
   "source": [
    "titiler_endpoint = \"https://tt.resat.dev-vizzuality.com\"  \n",
    "# titiler_endpoint = \"https://cog-cors.tt.resat.dev-vizzuality.com/\"\n",
    "# titiler_endpoint = \"http://127.0.0.1:3000\"\n",
    "# Two sample COGs - one being a PSScene analytic image and the other being a PSOrthoTile visual image\n",
    "# from the Google Cloud storage bucket\n",
    "cog_url = \"https://resilience-atlas.s3.amazonaws.com/cog/globcover_cog_test.tif\"\n",
    "# cog_url = \"https://oin-hotosm.s3.amazonaws.com/56f9b5a963ebf4bc00074e70/0/56f9c2d42b67227a79b4faec.tif\"\n",
    "# https://resilience-atlas.s3.amazonaws.com/cog/spam_wheat_cog.tif\n",
    "geometry = {\"type\":\"FeatureCollection\",\"features\":[{\"type\":\"Feature\",\"properties\":{},\"geometry\":{\"coordinates\":[[[33.17720646412923,9.16050898883553],[33.17720646412923,7.590139486949454],[34.958987658993124,7.590139486949454],[34.958987658993124,9.16050898883553],[33.17720646412923,9.16050898883553]]],\"type\":\"Polygon\"}}]}"
   ]
  },
  {
   "cell_type": "code",
   "execution_count": 28,
   "id": "389bab00-cf0a-4583-9447-d855ea1c665d",
   "metadata": {
    "tags": []
   },
   "outputs": [],
   "source": [
    "def build_url(BASE_URL, endpoint, params):\n",
    "    # , safe='{}/:\"\\'#', quote_via=urllib.parse.quote\n",
    "    str_params = urllib.parse.urlencode(params)\n",
    "    return f\"{BASE_URL}/{endpoint}?{str_params}\"\n",
    "\n",
    "def submit_request(BASE_URL, endpoint, url):\n",
    "    r = requests.get(\n",
    "        f\"{BASE_URL}/{endpoint}\",\n",
    "        params = {\n",
    "            \"url\": url,\n",
    "        }\n",
    "    ).json()\n",
    "    return r\n",
    "\n",
    "def submit_analysis(BASE_URL, endpoint, url, geometry):\n",
    "    r = requests.post(\n",
    "        f\"{BASE_URL}/{endpoint}\",\n",
    "        params = {\"url\": url},\n",
    "        body = {\"geometry\": geometry}\n",
    "    ).json()\n",
    "    return r"
   ]
  },
  {
   "cell_type": "code",
   "execution_count": 20,
   "id": "17df5d38-b79d-4b0e-b981-cdc028ee13f6",
   "metadata": {
    "tags": []
   },
   "outputs": [
    {
     "name": "stdout",
     "output_type": "stream",
     "text": [
      "{\n",
      " \"bounds\": [\n",
      "  -17.57812499999999,\n",
      "  -11.178401873711785,\n",
      "  141.32812500000003,\n",
      "  38.82259097617711\n",
      " ],\n",
      " \"minzoom\": 2,\n",
      " \"maxzoom\": 9,\n",
      " \"band_metadata\": [\n",
      "  [\n",
      "   \"b1\",\n",
      "   {}\n",
      "  ]\n",
      " ],\n",
      " \"band_descriptions\": [\n",
      "  [\n",
      "   \"b1\",\n",
      "   \"\"\n",
      "  ]\n",
      " ],\n",
      " \"dtype\": \"uint8\",\n",
      " \"nodata_type\": \"Nodata\",\n",
      " \"colorinterp\": [\n",
      "  \"gray\"\n",
      " ],\n",
      " \"nodata_value\": 0.0,\n",
      " \"height\": 19456,\n",
      " \"count\": 1,\n",
      " \"width\": 57856,\n",
      " \"overviews\": [\n",
      "  2,\n",
      "  4,\n",
      "  8,\n",
      "  16,\n",
      "  32,\n",
      "  64,\n",
      "  128,\n",
      "  256\n",
      " ],\n",
      " \"driver\": \"GTiff\"\n",
      "}\n"
     ]
    }
   ],
   "source": [
    "analytic_cog_validation = submit_request(titiler_endpoint, \"info\", cog_url)\n",
    "print(json.dumps(analytic_cog_validation, indent=1))"
   ]
  },
  {
   "cell_type": "code",
   "execution_count": 21,
   "id": "cb0f04e1-a8b2-46f2-9cf8-85231aadb494",
   "metadata": {
    "tags": []
   },
   "outputs": [
    {
     "name": "stdout",
     "output_type": "stream",
     "text": [
      "{\n",
      "    \"tilejson\": \"2.2.0\",\n",
      "    \"version\": \"1.0.0\",\n",
      "    \"scheme\": \"xyz\",\n",
      "    \"tiles\": [\n",
      "        \"https://tt.resat.dev-vizzuality.com/tiles/WebMercatorQuad/{z}/{x}/{y}@1x?url=https%3A%2F%2Fresilience-atlas.s3.amazonaws.com%2Fcog%2Fglobcover_cog_test.tif\"\n",
      "    ],\n",
      "    \"minzoom\": 2,\n",
      "    \"maxzoom\": 9,\n",
      "    \"bounds\": [\n",
      "        -17.57812499999999,\n",
      "        -11.178401873711785,\n",
      "        141.32812500000003,\n",
      "        38.82259097617711\n",
      "    ],\n",
      "    \"center\": [\n",
      "        61.87500000000002,\n",
      "        13.822094551232663,\n",
      "        2\n",
      "    ]\n",
      "}\n"
     ]
    }
   ],
   "source": [
    "tile_json_analytic = submit_request(titiler_endpoint, \"tilejson.json\", cog_url)\n",
    "print(json.dumps(tile_json_analytic, indent=4))"
   ]
  },
  {
   "cell_type": "code",
   "execution_count": 30,
   "id": "125d71a0-dfb5-4fe2-9ec5-5a3d25dc761d",
   "metadata": {
    "tags": []
   },
   "outputs": [
    {
     "name": "stdout",
     "output_type": "stream",
     "text": [
      "{\"11\": \"#AAF0F0\", \"14\": \"#FFFF64\", \"20\": \"#DCF064\", \"30\": \"#CDCD66\", \"40\": \"#006400\", \"50\": \"#00A000\", \"60\": \"#AAC800\", \"70\": \"#003C00\", \"90\": \"#286400\", \"100\": \"#788200\", \"110\": \"#8CA000\", \"120\": \"#BE9600\", \"130\": \"#966400\", \"140\": \"#FFB432\", \"150\": \"#FFEBAF\", \"160\": \"#00785A\", \"170\": \"#009678\", \"180\": \"#00DC82\", \"190\": \"#C31400\", \"200\": \"#FFF5D7\", \"210\": \"#0046C8\", \"220\": \"#FFFFFF\", \"230\": \"#000000\"}\n",
      "https://tt.resat.dev-vizzuality.com/tiles/{z}/{x}/{y}.png?url=https%3A%2F%2Fresilience-atlas.s3.amazonaws.com%2Fcog%2Fglobcover_cog_test.tif&colormap=%7B%2211%22%3A+%22%23AAF0F0%22%2C+%2214%22%3A+%22%23FFFF64%22%2C+%2220%22%3A+%22%23DCF064%22%2C+%2230%22%3A+%22%23CDCD66%22%2C+%2240%22%3A+%22%23006400%22%2C+%2250%22%3A+%22%2300A000%22%2C+%2260%22%3A+%22%23AAC800%22%2C+%2270%22%3A+%22%23003C00%22%2C+%2290%22%3A+%22%23286400%22%2C+%22100%22%3A+%22%23788200%22%2C+%22110%22%3A+%22%238CA000%22%2C+%22120%22%3A+%22%23BE9600%22%2C+%22130%22%3A+%22%23966400%22%2C+%22140%22%3A+%22%23FFB432%22%2C+%22150%22%3A+%22%23FFEBAF%22%2C+%22160%22%3A+%22%2300785A%22%2C+%22170%22%3A+%22%23009678%22%2C+%22180%22%3A+%22%2300DC82%22%2C+%22190%22%3A+%22%23C31400%22%2C+%22200%22%3A+%22%23FFF5D7%22%2C+%22210%22%3A+%22%230046C8%22%2C+%22220%22%3A+%22%23FFFFFF%22%2C+%22230%22%3A+%22%23000000%22%7D\n"
     ]
    },
    {
     "data": {
      "text/html": [
       "<div style=\"width:100%;\"><div style=\"position:relative;width:100%;height:0;padding-bottom:60%;\"><span style=\"color:#565656\">Make this Notebook Trusted to load map: File -> Trust Notebook</span><iframe srcdoc=\"&lt;!DOCTYPE html&gt;\n",
       "&lt;html&gt;\n",
       "&lt;head&gt;\n",
       "    \n",
       "    &lt;meta http-equiv=&quot;content-type&quot; content=&quot;text/html; charset=UTF-8&quot; /&gt;\n",
       "    \n",
       "        &lt;script&gt;\n",
       "            L_NO_TOUCH = false;\n",
       "            L_DISABLE_3D = false;\n",
       "        &lt;/script&gt;\n",
       "    \n",
       "    &lt;style&gt;html, body {width: 100%;height: 100%;margin: 0;padding: 0;}&lt;/style&gt;\n",
       "    &lt;style&gt;#map {position:absolute;top:0;bottom:0;right:0;left:0;}&lt;/style&gt;\n",
       "    &lt;script src=&quot;https://cdn.jsdelivr.net/npm/leaflet@1.9.3/dist/leaflet.js&quot;&gt;&lt;/script&gt;\n",
       "    &lt;script src=&quot;https://code.jquery.com/jquery-1.12.4.min.js&quot;&gt;&lt;/script&gt;\n",
       "    &lt;script src=&quot;https://cdn.jsdelivr.net/npm/bootstrap@5.2.2/dist/js/bootstrap.bundle.min.js&quot;&gt;&lt;/script&gt;\n",
       "    &lt;script src=&quot;https://cdnjs.cloudflare.com/ajax/libs/Leaflet.awesome-markers/2.0.2/leaflet.awesome-markers.js&quot;&gt;&lt;/script&gt;\n",
       "    &lt;link rel=&quot;stylesheet&quot; href=&quot;https://cdn.jsdelivr.net/npm/leaflet@1.9.3/dist/leaflet.css&quot;/&gt;\n",
       "    &lt;link rel=&quot;stylesheet&quot; href=&quot;https://cdn.jsdelivr.net/npm/bootstrap@5.2.2/dist/css/bootstrap.min.css&quot;/&gt;\n",
       "    &lt;link rel=&quot;stylesheet&quot; href=&quot;https://netdna.bootstrapcdn.com/bootstrap/3.0.0/css/bootstrap.min.css&quot;/&gt;\n",
       "    &lt;link rel=&quot;stylesheet&quot; href=&quot;https://cdn.jsdelivr.net/npm/@fortawesome/fontawesome-free@6.2.0/css/all.min.css&quot;/&gt;\n",
       "    &lt;link rel=&quot;stylesheet&quot; href=&quot;https://cdnjs.cloudflare.com/ajax/libs/Leaflet.awesome-markers/2.0.2/leaflet.awesome-markers.css&quot;/&gt;\n",
       "    &lt;link rel=&quot;stylesheet&quot; href=&quot;https://cdn.jsdelivr.net/gh/python-visualization/folium/folium/templates/leaflet.awesome.rotate.min.css&quot;/&gt;\n",
       "    \n",
       "            &lt;meta name=&quot;viewport&quot; content=&quot;width=device-width,\n",
       "                initial-scale=1.0, maximum-scale=1.0, user-scalable=no&quot; /&gt;\n",
       "            &lt;style&gt;\n",
       "                #map_fe9f82146550ed35769305f99f8bc4c7 {\n",
       "                    position: relative;\n",
       "                    width: 100.0%;\n",
       "                    height: 100.0%;\n",
       "                    left: 0.0%;\n",
       "                    top: 0.0%;\n",
       "                }\n",
       "                .leaflet-container { font-size: 1rem; }\n",
       "            &lt;/style&gt;\n",
       "        \n",
       "&lt;/head&gt;\n",
       "&lt;body&gt;\n",
       "    \n",
       "    \n",
       "            &lt;div class=&quot;folium-map&quot; id=&quot;map_fe9f82146550ed35769305f99f8bc4c7&quot; &gt;&lt;/div&gt;\n",
       "        \n",
       "&lt;/body&gt;\n",
       "&lt;script&gt;\n",
       "    \n",
       "    \n",
       "            var map_fe9f82146550ed35769305f99f8bc4c7 = L.map(\n",
       "                &quot;map_fe9f82146550ed35769305f99f8bc4c7&quot;,\n",
       "                {\n",
       "                    center: [13.822094551232663, 61.87500000000002],\n",
       "                    crs: L.CRS.EPSG3857,\n",
       "                    zoom: 2,\n",
       "                    zoomControl: true,\n",
       "                    preferCanvas: false,\n",
       "                }\n",
       "            );\n",
       "\n",
       "            \n",
       "\n",
       "        \n",
       "    \n",
       "            var tile_layer_dbd5abad41a8ca5863f07c057cf0bd86 = L.tileLayer(\n",
       "                &quot;https://{s}.tile.openstreetmap.org/{z}/{x}/{y}.png&quot;,\n",
       "                {&quot;attribution&quot;: &quot;Data by \\u0026copy; \\u003ca target=\\&quot;_blank\\&quot; href=\\&quot;http://openstreetmap.org\\&quot;\\u003eOpenStreetMap\\u003c/a\\u003e, under \\u003ca target=\\&quot;_blank\\&quot; href=\\&quot;http://www.openstreetmap.org/copyright\\&quot;\\u003eODbL\\u003c/a\\u003e.&quot;, &quot;detectRetina&quot;: false, &quot;maxNativeZoom&quot;: 18, &quot;maxZoom&quot;: 18, &quot;minZoom&quot;: 0, &quot;noWrap&quot;: false, &quot;opacity&quot;: 1, &quot;subdomains&quot;: &quot;abc&quot;, &quot;tms&quot;: false}\n",
       "            ).addTo(map_fe9f82146550ed35769305f99f8bc4c7);\n",
       "        \n",
       "    \n",
       "            var tile_layer_95a9ceb11a8da9571268ab0bf770d9ad = L.tileLayer(\n",
       "                &quot;https://tt.resat.dev-vizzuality.com/tiles/{z}/{x}/{y}.png?url=https%3A%2F%2Fresilience-atlas.s3.amazonaws.com%2Fcog%2Fglobcover_cog_test.tif\\u0026colormap=%7B%2211%22%3A+%22%23AAF0F0%22%2C+%2214%22%3A+%22%23FFFF64%22%2C+%2220%22%3A+%22%23DCF064%22%2C+%2230%22%3A+%22%23CDCD66%22%2C+%2240%22%3A+%22%23006400%22%2C+%2250%22%3A+%22%2300A000%22%2C+%2260%22%3A+%22%23AAC800%22%2C+%2270%22%3A+%22%23003C00%22%2C+%2290%22%3A+%22%23286400%22%2C+%22100%22%3A+%22%23788200%22%2C+%22110%22%3A+%22%238CA000%22%2C+%22120%22%3A+%22%23BE9600%22%2C+%22130%22%3A+%22%23966400%22%2C+%22140%22%3A+%22%23FFB432%22%2C+%22150%22%3A+%22%23FFEBAF%22%2C+%22160%22%3A+%22%2300785A%22%2C+%22170%22%3A+%22%23009678%22%2C+%22180%22%3A+%22%2300DC82%22%2C+%22190%22%3A+%22%23C31400%22%2C+%22200%22%3A+%22%23FFF5D7%22%2C+%22210%22%3A+%22%230046C8%22%2C+%22220%22%3A+%22%23FFFFFF%22%2C+%22230%22%3A+%22%23000000%22%7D&quot;,\n",
       "                {&quot;attribution&quot;: &quot;Sample COG&quot;, &quot;detectRetina&quot;: false, &quot;maxNativeZoom&quot;: 18, &quot;maxZoom&quot;: 18, &quot;minZoom&quot;: 0, &quot;noWrap&quot;: false, &quot;opacity&quot;: 1, &quot;subdomains&quot;: &quot;abc&quot;, &quot;tms&quot;: false}\n",
       "            ).addTo(map_fe9f82146550ed35769305f99f8bc4c7);\n",
       "        \n",
       "&lt;/script&gt;\n",
       "&lt;/html&gt;\" style=\"position:absolute;width:100%;height:100%;left:0;top:0;border:none !important;\" allowfullscreen webkitallowfullscreen mozallowfullscreen></iframe></div></div>"
      ],
      "text/plain": [
       "<folium.folium.Map at 0x7f23dd42d7d0>"
      ]
     },
     "execution_count": 30,
     "metadata": {},
     "output_type": "execute_result"
    }
   ],
   "source": [
    "# \"colormap\": json.dumps({\"11\":\"#AAF0F0\",\"14\":\"#FFFF64\",\"20\":\"#DCF064\",\"30\":\"#CDCD66\",\"40\":\"#006400\",\"50\":\"#00A000\",\"60\":\"#AAC800\",\"70\": \"#003C00\",\"90\":\"#286400\",\"100\":\"#788200\",\"110\":\"#8CA000\",\"120\":\"#BE9600\",\"130\":\"#966400\",\"140\":\"#FFB432\",\"150\":\"#FFEBAF\",\"160\":\"#00785A\",\"170\":\"#009678\",\"180\":\"#00DC82\",\"190\":\"#C31400\",\"200\":\"#FFF5D7\",\"210\":\"#0046C8\",\"220\":\"#FFFFFF\",\"230\":\"#000000\"}),\n",
    "#    \"colormap_type\":\"linear\"\n",
    "colormap = json.dumps({\"11\":\"#AAF0F0\",\"14\":\"#FFFF64\",\"20\":\"#DCF064\",\"30\":\"#CDCD66\",\"40\":\"#006400\",\"50\":\"#00A000\",\"60\":\"#AAC800\",\"70\": \"#003C00\",\"90\":\"#286400\",\"100\":\"#788200\",\"110\":\"#8CA000\",\"120\":\"#BE9600\",\"130\":\"#966400\",\"140\":\"#FFB432\",\"150\":\"#FFEBAF\",\"160\":\"#00785A\",\"170\":\"#009678\",\"180\":\"#00DC82\",\"190\":\"#C31400\",\"200\":\"#FFF5D7\",\"210\":\"#0046C8\",\"220\":\"#FFFFFF\",\"230\":\"#000000\"})\n",
    "params = {\n",
    "    \"url\": cog_url,\n",
    "    \"colormap\": colormap,\n",
    "    \n",
    "}\n",
    "tileset = build_url(titiler_endpoint, \"tiles/{z}/{x}/{y}.png\", params)\n",
    "#tileset = tile_json_analytic.get(\"tiles\", [])[0]\n",
    "print(tileset)\n",
    "(left, bottom, right, top) = tile_json_analytic[\"bounds\"]\n",
    "(lon,lat,zoom) = tile_json_analytic.get(\"center\", [0, 0, 2])\n",
    "center = [lat,lon]\n",
    "m = Map(\n",
    "    location=center,\n",
    "    zoom_start=zoom,\n",
    "    tiles=\"OpenStreetMap\"\n",
    ")\n",
    "tile_layer = TileLayer(\n",
    "    tiles= tileset,\n",
    "    attr=\"Sample COG\"\n",
    ")\n",
    "\n",
    "tile_layer.add_to(m)\n",
    "m"
   ]
  },
  {
   "cell_type": "code",
   "execution_count": null,
   "id": "c6c3f2e4",
   "metadata": {},
   "outputs": [],
   "source": []
  }
 ],
 "metadata": {
  "kernelspec": {
   "display_name": "Python 3 (ipykernel)",
   "language": "python",
   "name": "python3"
  }
 },
 "nbformat": 4,
 "nbformat_minor": 5
}
