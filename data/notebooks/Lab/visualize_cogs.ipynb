{
 "cells": [
  {
   "cell_type": "code",
   "execution_count": 21,
   "id": "694805e5-d604-462e-b390-eade01c36de8",
   "metadata": {
    "tags": []
   },
   "outputs": [
    {
     "name": "stdout",
     "output_type": "stream",
     "text": [
      "%pylab is deprecated, use %matplotlib inline and import the required libraries.\n",
      "Populating the interactive namespace from numpy and matplotlib\n"
     ]
    }
   ],
   "source": [
    "import requests\n",
    "import json\n",
    "from folium import Map, TileLayer\n",
    "from io import BytesIO\n",
    "import rasterio\n",
    "import urllib\n",
    "\n",
    "%pylab inline"
   ]
  },
  {
   "cell_type": "code",
   "execution_count": 127,
   "id": "d855c610-06f4-41ad-94ab-4b4e40ac4cbe",
   "metadata": {
    "tags": []
   },
   "outputs": [],
   "source": [
    "titiler_endpoint = \"https://tt.resat.dev-vizzuality.com\"  \n",
    "#titiler_endpoint = \"http://127.0.0.1:3000\"\n",
    "# Two sample COGs - one being a PSScene analytic image and the other being a PSOrthoTile visual image\n",
    "# from the Google Cloud storage bucket\n",
    "cog_url = \"https://resilience-atlas.s3.amazonaws.com/cog/globcover_cog_test.tif\"\n",
    "cog_url = \"https://oin-hotosm.s3.amazonaws.com/56f9b5a963ebf4bc00074e70/0/56f9c2d42b67227a79b4faec.tif\""
   ]
  },
  {
   "cell_type": "code",
   "execution_count": 128,
   "id": "389bab00-cf0a-4583-9447-d855ea1c665d",
   "metadata": {
    "tags": []
   },
   "outputs": [],
   "source": [
    "def build_url(BASE_URL, endpoint, params):\n",
    "    str_params = urllib.parse.urlencode(params, safe='/:\"\\'#', quote_via=urllib.parse.quote)\n",
    "    return f\"{BASE_URL}/{endpoint}?{str_params}\"\n",
    "\n",
    "def submit_request(BASE_URL, endpoint, url):\n",
    "    r = requests.get(\n",
    "        f\"{BASE_URL}/{endpoint}\",\n",
    "        params = {\n",
    "            \"url\": url,\n",
    "        }\n",
    "    ).json()\n",
    "    return r"
   ]
  },
  {
   "cell_type": "code",
   "execution_count": 129,
   "id": "17df5d38-b79d-4b0e-b981-cdc028ee13f6",
   "metadata": {
    "tags": []
   },
   "outputs": [
    {
     "name": "stdout",
     "output_type": "stream",
     "text": [
      "{\n",
      " \"bounds\": [\n",
      "  168.45251984367613,\n",
      "  -17.557596404471102,\n",
      "  168.459511241736,\n",
      "  -17.54927007461763\n",
      " ],\n",
      " \"minzoom\": 15,\n",
      " \"maxzoom\": 22,\n",
      " \"band_metadata\": [\n",
      "  [\n",
      "   \"b1\",\n",
      "   {}\n",
      "  ],\n",
      "  [\n",
      "   \"b2\",\n",
      "   {}\n",
      "  ],\n",
      "  [\n",
      "   \"b3\",\n",
      "   {}\n",
      "  ]\n",
      " ],\n",
      " \"band_descriptions\": [\n",
      "  [\n",
      "   \"b1\",\n",
      "   \"\"\n",
      "  ],\n",
      "  [\n",
      "   \"b2\",\n",
      "   \"\"\n",
      "  ],\n",
      "  [\n",
      "   \"b3\",\n",
      "   \"\"\n",
      "  ]\n",
      " ],\n",
      " \"dtype\": \"uint8\",\n",
      " \"nodata_type\": \"None\",\n",
      " \"colorinterp\": [\n",
      "  \"red\",\n",
      "  \"green\",\n",
      "  \"blue\"\n",
      " ],\n",
      " \"overviews\": [\n",
      "  2,\n",
      "  4,\n",
      "  8,\n",
      "  16,\n",
      "  32,\n",
      "  64\n",
      " ],\n",
      " \"height\": 25201,\n",
      " \"count\": 3,\n",
      " \"driver\": \"GTiff\",\n",
      " \"width\": 20179\n",
      "}\n"
     ]
    }
   ],
   "source": [
    "analytic_cog_validation = submit_request(titiler_endpoint, \"info\", cog_url)\n",
    "print(json.dumps(analytic_cog_validation, indent=1))"
   ]
  },
  {
   "cell_type": "code",
   "execution_count": 130,
   "id": "cb0f04e1-a8b2-46f2-9cf8-85231aadb494",
   "metadata": {
    "tags": []
   },
   "outputs": [
    {
     "name": "stdout",
     "output_type": "stream",
     "text": [
      "{\n",
      "    \"tilejson\": \"2.2.0\",\n",
      "    \"version\": \"1.0.0\",\n",
      "    \"scheme\": \"xyz\",\n",
      "    \"tiles\": [\n",
      "        \"https://tt.resat.dev-vizzuality.com/tiles/WebMercatorQuad/{z}/{x}/{y}@1x?url=https%3A%2F%2Foin-hotosm.s3.amazonaws.com%2F56f9b5a963ebf4bc00074e70%2F0%2F56f9c2d42b67227a79b4faec.tif\"\n",
      "    ],\n",
      "    \"minzoom\": 15,\n",
      "    \"maxzoom\": 22,\n",
      "    \"bounds\": [\n",
      "        168.45251984367613,\n",
      "        -17.557596404471102,\n",
      "        168.459511241736,\n",
      "        -17.54927007461763\n",
      "    ],\n",
      "    \"center\": [\n",
      "        168.45601554270607,\n",
      "        -17.55343323954437,\n",
      "        15\n",
      "    ]\n",
      "}\n"
     ]
    }
   ],
   "source": [
    "tile_json_analytic = submit_request(titiler_endpoint, \"tilejson.json\", cog_url)\n",
    "print(json.dumps(tile_json_analytic, indent=4))"
   ]
  },
  {
   "cell_type": "code",
   "execution_count": 131,
   "id": "b8155875",
   "metadata": {},
   "outputs": [
    {
     "data": {
      "text/plain": [
       "'{\\n\"11\": \"#AAF0F0\",\\n\"14\": \"#FFFF64\",\\n\"20\": \"#DCF064\",\\n\"30\": \"#CDCD66\",\\n\"40\": \"#006400\",\\n\"50\": \"#00A000\",\\n\"60\": \"#AAC800\",\\n\"70\": \"#003C00\",\\n\"90\": \"#286400\",\\n\"100\": \"#788200\",\\n\"110\": \"#8CA000\",\\n\"120\": \"#BE9600\",\\n\"130\": \"#966400\",\\n\"140\": \"#FFB432\",\\n\"150\": \"#FFEBAF\",\\n\"160\": \"#00785A\",\\n\"170\": \"#009678\",\\n\"180\": \"#00DC82\",\\n\"190\": \"#C31400\",\\n\"200\": \"#FFF5D7\",\\n\"210\": \"#0046C8\",\\n\"220\": \"#FFFFFF\",\\n\"230\": \"#000000\"\\n}'"
      ]
     },
     "execution_count": 131,
     "metadata": {},
     "output_type": "execute_result"
    }
   ],
   "source": [
    "json.dumps({\"11\":\"#AAF0F0\",\"14\":\"#FFFF64\",\"20\":\"#DCF064\",\"30\":\"#CDCD66\",\"40\":\"#006400\",\"50\":\"#00A000\",\"60\":\"#AAC800\",\"70\": \"#003C00\",\"90\":\"#286400\",\"100\":\"#788200\",\"110\":\"#8CA000\",\"120\":\"#BE9600\",\"130\":\"#966400\",\"140\":\"#FFB432\",\"150\":\"#FFEBAF\",\"160\":\"#00785A\",\"170\":\"#009678\",\"180\":\"#00DC82\",\"190\":\"#C31400\",\"200\":\"#FFF5D7\",\"210\":\"#0046C8\",\"220\":\"#FFFFFF\",\"230\":\"#000000\"}, indent=0)"
   ]
  },
  {
   "cell_type": "code",
   "execution_count": 132,
   "id": "125d71a0-dfb5-4fe2-9ec5-5a3d25dc761d",
   "metadata": {
    "tags": []
   },
   "outputs": [
    {
     "name": "stdout",
     "output_type": "stream",
     "text": [
      "https://tt.resat.dev-vizzuality.com/tiles/{z}/{x}/{y}.png?url=https://oin-hotosm.s3.amazonaws.com/56f9b5a963ebf4bc00074e70/0/56f9c2d42b67227a79b4faec.tif\n"
     ]
    },
    {
     "data": {
      "text/html": [
       "<div style=\"width:100%;\"><div style=\"position:relative;width:100%;height:0;padding-bottom:60%;\"><span style=\"color:#565656\">Make this Notebook Trusted to load map: File -> Trust Notebook</span><iframe srcdoc=\"&lt;!DOCTYPE html&gt;\n",
       "&lt;html&gt;\n",
       "&lt;head&gt;\n",
       "    \n",
       "    &lt;meta http-equiv=&quot;content-type&quot; content=&quot;text/html; charset=UTF-8&quot; /&gt;\n",
       "    \n",
       "        &lt;script&gt;\n",
       "            L_NO_TOUCH = false;\n",
       "            L_DISABLE_3D = false;\n",
       "        &lt;/script&gt;\n",
       "    \n",
       "    &lt;style&gt;html, body {width: 100%;height: 100%;margin: 0;padding: 0;}&lt;/style&gt;\n",
       "    &lt;style&gt;#map {position:absolute;top:0;bottom:0;right:0;left:0;}&lt;/style&gt;\n",
       "    &lt;script src=&quot;https://cdn.jsdelivr.net/npm/leaflet@1.9.3/dist/leaflet.js&quot;&gt;&lt;/script&gt;\n",
       "    &lt;script src=&quot;https://code.jquery.com/jquery-1.12.4.min.js&quot;&gt;&lt;/script&gt;\n",
       "    &lt;script src=&quot;https://cdn.jsdelivr.net/npm/bootstrap@5.2.2/dist/js/bootstrap.bundle.min.js&quot;&gt;&lt;/script&gt;\n",
       "    &lt;script src=&quot;https://cdnjs.cloudflare.com/ajax/libs/Leaflet.awesome-markers/2.0.2/leaflet.awesome-markers.js&quot;&gt;&lt;/script&gt;\n",
       "    &lt;link rel=&quot;stylesheet&quot; href=&quot;https://cdn.jsdelivr.net/npm/leaflet@1.9.3/dist/leaflet.css&quot;/&gt;\n",
       "    &lt;link rel=&quot;stylesheet&quot; href=&quot;https://cdn.jsdelivr.net/npm/bootstrap@5.2.2/dist/css/bootstrap.min.css&quot;/&gt;\n",
       "    &lt;link rel=&quot;stylesheet&quot; href=&quot;https://netdna.bootstrapcdn.com/bootstrap/3.0.0/css/bootstrap.min.css&quot;/&gt;\n",
       "    &lt;link rel=&quot;stylesheet&quot; href=&quot;https://cdn.jsdelivr.net/npm/@fortawesome/fontawesome-free@6.2.0/css/all.min.css&quot;/&gt;\n",
       "    &lt;link rel=&quot;stylesheet&quot; href=&quot;https://cdnjs.cloudflare.com/ajax/libs/Leaflet.awesome-markers/2.0.2/leaflet.awesome-markers.css&quot;/&gt;\n",
       "    &lt;link rel=&quot;stylesheet&quot; href=&quot;https://cdn.jsdelivr.net/gh/python-visualization/folium/folium/templates/leaflet.awesome.rotate.min.css&quot;/&gt;\n",
       "    \n",
       "            &lt;meta name=&quot;viewport&quot; content=&quot;width=device-width,\n",
       "                initial-scale=1.0, maximum-scale=1.0, user-scalable=no&quot; /&gt;\n",
       "            &lt;style&gt;\n",
       "                #map_5dfe2c745a3a9253e319fa779028ca5f {\n",
       "                    position: relative;\n",
       "                    width: 100.0%;\n",
       "                    height: 100.0%;\n",
       "                    left: 0.0%;\n",
       "                    top: 0.0%;\n",
       "                }\n",
       "                .leaflet-container { font-size: 1rem; }\n",
       "            &lt;/style&gt;\n",
       "        \n",
       "&lt;/head&gt;\n",
       "&lt;body&gt;\n",
       "    \n",
       "    \n",
       "            &lt;div class=&quot;folium-map&quot; id=&quot;map_5dfe2c745a3a9253e319fa779028ca5f&quot; &gt;&lt;/div&gt;\n",
       "        \n",
       "&lt;/body&gt;\n",
       "&lt;script&gt;\n",
       "    \n",
       "    \n",
       "            var map_5dfe2c745a3a9253e319fa779028ca5f = L.map(\n",
       "                &quot;map_5dfe2c745a3a9253e319fa779028ca5f&quot;,\n",
       "                {\n",
       "                    center: [-17.55343323954437, 168.45601554270607],\n",
       "                    crs: L.CRS.EPSG3857,\n",
       "                    zoom: 15,\n",
       "                    zoomControl: true,\n",
       "                    preferCanvas: false,\n",
       "                }\n",
       "            );\n",
       "\n",
       "            \n",
       "\n",
       "        \n",
       "    \n",
       "            var tile_layer_b617bec817d3f50630203f3fedd4bb69 = L.tileLayer(\n",
       "                &quot;https://{s}.tile.openstreetmap.org/{z}/{x}/{y}.png&quot;,\n",
       "                {&quot;attribution&quot;: &quot;Data by \\u0026copy; \\u003ca target=\\&quot;_blank\\&quot; href=\\&quot;http://openstreetmap.org\\&quot;\\u003eOpenStreetMap\\u003c/a\\u003e, under \\u003ca target=\\&quot;_blank\\&quot; href=\\&quot;http://www.openstreetmap.org/copyright\\&quot;\\u003eODbL\\u003c/a\\u003e.&quot;, &quot;detectRetina&quot;: false, &quot;maxNativeZoom&quot;: 18, &quot;maxZoom&quot;: 18, &quot;minZoom&quot;: 0, &quot;noWrap&quot;: false, &quot;opacity&quot;: 1, &quot;subdomains&quot;: &quot;abc&quot;, &quot;tms&quot;: false}\n",
       "            ).addTo(map_5dfe2c745a3a9253e319fa779028ca5f);\n",
       "        \n",
       "    \n",
       "            var tile_layer_9057913614ee0e0fb7f0e51c9a7e0216 = L.tileLayer(\n",
       "                &quot;https://tt.resat.dev-vizzuality.com/tiles/{z}/{x}/{y}.png?url=https://oin-hotosm.s3.amazonaws.com/56f9b5a963ebf4bc00074e70/0/56f9c2d42b67227a79b4faec.tif&quot;,\n",
       "                {&quot;attribution&quot;: &quot;Sample COG&quot;, &quot;detectRetina&quot;: false, &quot;maxNativeZoom&quot;: 18, &quot;maxZoom&quot;: 18, &quot;minZoom&quot;: 0, &quot;noWrap&quot;: false, &quot;opacity&quot;: 1, &quot;subdomains&quot;: &quot;abc&quot;, &quot;tms&quot;: false}\n",
       "            ).addTo(map_5dfe2c745a3a9253e319fa779028ca5f);\n",
       "        \n",
       "&lt;/script&gt;\n",
       "&lt;/html&gt;\" style=\"position:absolute;width:100%;height:100%;left:0;top:0;border:none !important;\" allowfullscreen webkitallowfullscreen mozallowfullscreen></iframe></div></div>"
      ],
      "text/plain": [
       "<folium.folium.Map at 0x7f8268a20290>"
      ]
     },
     "execution_count": 132,
     "metadata": {},
     "output_type": "execute_result"
    }
   ],
   "source": [
    "# \"colormap\": json.dumps({\"11\":\"#AAF0F0\",\"14\":\"#FFFF64\",\"20\":\"#DCF064\",\"30\":\"#CDCD66\",\"40\":\"#006400\",\"50\":\"#00A000\",\"60\":\"#AAC800\",\"70\": \"#003C00\",\"90\":\"#286400\",\"100\":\"#788200\",\"110\":\"#8CA000\",\"120\":\"#BE9600\",\"130\":\"#966400\",\"140\":\"#FFB432\",\"150\":\"#FFEBAF\",\"160\":\"#00785A\",\"170\":\"#009678\",\"180\":\"#00DC82\",\"190\":\"#C31400\",\"200\":\"#FFF5D7\",\"210\":\"#0046C8\",\"220\":\"#FFFFFF\",\"230\":\"#000000\"}),\n",
    "#    \"colormap_type\":\"linear\"\n",
    "\n",
    "params = {\n",
    "    \"url\": cog_url\n",
    "}\n",
    "tileset = build_url(titiler_endpoint, \"tiles/{z}/{x}/{y}.png\", params)\n",
    "#tileset = tile_json_analytic.get(\"tiles\", [])[0]\n",
    "print(tileset)\n",
    "(left, bottom, right, top) = tile_json_analytic[\"bounds\"]\n",
    "(lon,lat,zoom) = tile_json_analytic.get(\"center\", [0, 0, 2])\n",
    "center = [lat,lon]\n",
    "m = Map(\n",
    "    location=center,\n",
    "    zoom_start=zoom,\n",
    "    tiles=\"OpenStreetMap\"\n",
    ")\n",
    "tile_layer = TileLayer(\n",
    "    tiles= tileset,\n",
    "    attr=\"Sample COG\"\n",
    ")\n",
    "\n",
    "tile_layer.add_to(m)\n",
    "m"
   ]
  },
  {
   "cell_type": "code",
   "execution_count": 97,
   "id": "50e0fad7-2dba-484c-916d-391a4baf897b",
   "metadata": {},
   "outputs": [],
   "source": [
    "!curl https://tt.resat.dev-vizzuality.com/tiles/5/18/13.png?url=https://resilience-atlas.s3.amazonaws.com/cog/globcover_cog_test.tif&bidx=1&colormap_name=viridis"
   ]
  },
  {
   "cell_type": "code",
   "execution_count": null,
   "id": "5403f49e",
   "metadata": {},
   "outputs": [],
   "source": [
    "http://127.0.0.1:3000/tiles/{z}/{x}/{y}.png?url=https://oin-hotosm.s3.amazonaws.com/56f9b5a963ebf4bc00074e70/0/56f9c2d42b67227a79b4faec.tif"
   ]
  }
 ],
 "metadata": {
  "kernelspec": {
   "display_name": "Python 3 (ipykernel)",
   "language": "python",
   "name": "python3"
  },
  "language_info": {
   "codemirror_mode": {
    "name": "ipython",
    "version": 3
   },
   "file_extension": ".py",
   "mimetype": "text/x-python",
   "name": "python",
   "nbconvert_exporter": "python",
   "pygments_lexer": "ipython3",
   "version": "3.11.3"
  }
 },
 "nbformat": 4,
 "nbformat_minor": 5
}
