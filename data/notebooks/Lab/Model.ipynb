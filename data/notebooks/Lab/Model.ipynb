{
 "cells": [
  {
   "cell_type": "markdown",
   "metadata": {
    "toc": "true"
   },
   "source": [
    "# Table of Contents\n",
    " <p><div class=\"lev2 toc-item\"><a href=\"#trial-1\" data-toc-modified-id=\"trial-1-01\"><span class=\"toc-item-num\">0.1&nbsp;&nbsp;</span>trial 1</a></div><div class=\"lev1 toc-item\"><a href=\"#trial-2\" data-toc-modified-id=\"trial-2-1\"><span class=\"toc-item-num\">1&nbsp;&nbsp;</span>trial 2</a></div><div class=\"lev2 toc-item\"><a href=\"#Geometries\" data-toc-modified-id=\"Geometries-11\"><span class=\"toc-item-num\">1.1&nbsp;&nbsp;</span>Geometries</a></div>"
   ]
  },
  {
   "cell_type": "markdown",
   "metadata": {},
   "source": [
    "## trial 1 \n",
    "### con Rasters \n",
    ">como funciona:  \n",
    ">indicadores ---> modelos  \n",
    ">modelo --> funcion callback\n",
    "\n",
    "\n",
    ">Funciones principales a usar:\n",
    ">    * st_mapAlgebra\n",
    "    "
   ]
  },
  {
   "cell_type": "markdown",
   "metadata": {},
   "source": [
    "Como funciona MapAlgebra?\n",
    "\n",
    "necesitamos una **funcion callback** del tipo:\n",
    "\n",
    "```sql\n",
    "DROP FUNCTION callback_intensification(pixel float[], pos integer[], variadic userargs text[]); \n",
    "create or replace function callback_intensification(pixel float[], pos integer[], variadic userargs text[]) \n",
    "  returns float \n",
    "  language plpgsql \n",
    "  immutable  -- careful: this function is immutable, yours may not be\n",
    "as $$\n",
    "  declare\n",
    "    pixval float;\n",
    "    inputx integer;\n",
    "    inputy integer;\n",
    "  begin\n",
    "    pixval := pixel[1][1][1];  -- pixel indices: [raster #][xdistance][ydistance]\n",
    "    inputx := pos[1][1];       -- pos indices:   [raster #][x = 1, y = 2]\n",
    "    inputy := pos[1][2];       --                (raster #0 is the output raster)\n",
    "\n",
    "    return pixval + inputx + inputy;\n",
    "  end;\n",
    "$$;\n",
    "```\n"
   ]
  },
  {
   "cell_type": "markdown",
   "metadata": {},
   "source": [
    "y ejecutar esta query\n",
    "\n",
    "```sql\n",
    "SELECT ST_MapAlgebra(\n",
    "\t\tARRAY[ROW(t1.rast, 3), ROW(t2.rast, 1), ROW(t2.rast, 3), ROW(t1.rast, 2)]::rastbandarg[],\n",
    "\t\t'sample_callbackfunc(double precision[], int[], text[])'::regprocedure\n",
    "\t) as the_raster_webmercator\n",
    "```"
   ]
  },
  {
   "cell_type": "markdown",
   "metadata": {},
   "source": [
    "No funciona :pointup:"
   ]
  },
  {
   "cell_type": "markdown",
   "metadata": {},
   "source": [
    "# trial 2"
   ]
  },
  {
   "cell_type": "markdown",
   "metadata": {},
   "source": [
    "## Geometries"
   ]
  },
  {
   "cell_type": "code",
   "execution_count": null,
   "metadata": {},
   "outputs": [],
   "source": [
    "cecsol   cecsol_m_sl1_10km_ll\n",
    "forest   forest_cover\n",
    "acy_diff maize_acy_diff\n",
    "acy_r_h  maize_acy_r_h\n",
    "acy_r_l  maize_acy_r_l\n",
    "acy_fut  maize_acy_fut\n",
    "pop      gpw_v4_population_density_rev10_2020_2pt5_min_10km\n",
    "wh2      dhs_indicators_wh2\n",
    "wa2      dhs_indicators_wa2\n",
    "ha2      dhs_indicators_ha2\n",
    "\n"
   ]
  },
  {
   "cell_type": "markdown",
   "metadata": {},
   "source": [
    "```sql\n",
    "with country as (SELECT the_geom_webmercator FROM all_countries where adm0_a3 ='ETH'), \n",
    "\n",
    "wh2 as (select geom as the_geom_webmercator, val as wh2, st_transform(geom,4326) as the_geom from (SELECT (ST_PixelAscentroids(the_raster_webmercator)).* FROM dhs_indicators_wh2 where st_intersects(the_raster_webmercator,(select * from country))) r),\n",
    "phihox as (select geom as the_geom_webmercator, val as phihox, st_transform(geom,4326) as the_geom from (SELECT (ST_PixelAscentroids(the_raster_webmercator)).* FROM phihox_m_sl1_10km_ll  where st_intersects(the_raster_webmercator,(select * from country))) r),\n",
    "cecsol as (select geom as the_geom_webmercator, val as cecsol, st_transform(geom,4326) as the_geom from (SELECT (ST_PixelAscentroids(the_raster_webmercator)).* FROM cecsol_m_sl1_10km_ll  where st_intersects(the_raster_webmercator,(select * from country))) r),\n",
    "forest as (select geom as the_geom_webmercator, val as forest, st_transform(geom,4326) as the_geom from (SELECT (ST_PixelAscentroids(the_raster_webmercator)).* FROM forest_cover  where st_intersects(the_raster_webmercator,(select * from country))) r),\n",
    "wa2  as (select geom as the_geom_webmercator, val as wa2, st_transform(geom,4326) as the_geom from (SELECT (ST_PixelAscentroids(the_raster_webmercator)).* FROM dhs_indicators_wa2  where st_intersects(the_raster_webmercator,(select * from country))) r),\n",
    "ha2 as (select geom as the_geom_webmercator, val as ha2, st_transform(geom,4326) as the_geom from (SELECT (ST_PixelAscentroids(the_raster_webmercator)).* FROM dhs_indicators_ha2  where st_intersects(the_raster_webmercator,(select * from country))) r),\n",
    "pa as (select geom as the_geom_webmercator, val as pa, st_transform(geom,4326) as the_geom from (SELECT (ST_PixelAscentroids(the_raster_webmercator)).* FROM wdpa where st_intersects(the_raster_webmercator,(select * from country))) r),\n",
    "acy_diff as (select geom as the_geom_webmercator, val as acy_diff, st_transform(geom,4326) as the_geom from (SELECT (ST_PixelAscentroids(the_raster_webmercator)).* FROM maize_acy_diff where st_intersects(the_raster_webmercator,(select * from country))) r)\n",
    "\n",
    "\n",
    "\n",
    "select model_spect_1_copy.the_geom, model_spect_1_copy.the_geom_webmercator,  wh2.wh2, cecsol, forest, wa2, ha2.ha2, pa.pa,acy_diff.acy_diff from model_spect_1_copy \n",
    "inner join wh2 on st_intersects(wh2.the_geom_webmercator, model_spect_1_copy.the_geom_webmercator)\n",
    "inner join cecsol on st_intersects(cecsol.the_geom_webmercator, model_spect_1_copy.the_geom_webmercator)\n",
    "inner join forest on st_intersects(forest.the_geom_webmercator, model_spect_1_copy.the_geom_webmercator)\n",
    "inner join wa2 on st_intersects(wa2.the_geom_webmercator, model_spect_1_copy.the_geom_webmercator)\n",
    "inner join ha2 on st_intersects(ha2.the_geom_webmercator, model_spect_1_copy.the_geom_webmercator)\n",
    "inner join pa on st_intersects(pa.the_geom_webmercator, model_spect_1_copy.the_geom_webmercator)\n",
    "inner join acy_diff on\n",
    "st_intersects(acy_diff.the_geom_webmercator, model_spect_1_copy.the_geom_webmercator)\n",
    "\n",
    "```"
   ]
  },
  {
   "cell_type": "markdown",
   "metadata": {},
   "source": [
    "```json\n",
    "with country as (SELECT the_geom FROM all_countries where adm0_a3 ='ETH') \n",
    "\n",
    "SELECT * FROM model_spect_1 where st_intersects(the_geom, (select * from country))\n",
    "```"
   ]
  },
  {
   "cell_type": "markdown",
   "metadata": {},
   "source": [
    "```sql\n",
    "SELECT the_geom_webmercator, ((acy_diff*1)*(pa*9)*((cecsol*1) + (forest*1) + (ha2*1) + (wa2*1) + (wh2*1))) as value  FROM intensification_reduce\n",
    "```"
   ]
  },
  {
   "cell_type": "markdown",
   "metadata": {},
   "source": [
    "```sql\n",
    "with data as (select * from getModel(1,'[1,1,1,1,1,1,1]') where st_intersects(the_geom, ST_SetSRID (ST_GeomFromGeoJSON('\n",
    "{\"type\":\"Polygon\",\"coordinates\":[[[39.15527343749999,9.178024574578373],[39.495849609375,9.178024574578373],[39.495849609375,9.481572085088517],[39.15527343749999,9.481572085088517],[39.15527343749999,9.178024574578373]]]}'),4326))),\n",
    "\n",
    "min_max as (select min(value) as min,\n",
    "           max(value) as max\n",
    "      from data)\n",
    "\n",
    "\n",
    "select width_bucket(value, min, max, 20) as bucket,\n",
    "          min(value), max(value),\n",
    "          count(*) as freq from data, min_max\n",
    " group by bucket\n",
    " order by bucket\n",
    "```"
   ]
  },
  {
   "cell_type": "markdown",
   "metadata": {},
   "source": [
    "```sql\n",
    "DROP FUNCTION getModel(table_name TEXT, weights_raw TEXT); \n",
    "DROP TYPE weight_model_1;\n",
    "DROP TYPE weight_input;\n",
    "CREATE TYPE weight_input AS (column_name text,  weight numeric, operation text);\n",
    "CREATE TYPE weight_model_1 AS (cartodb_id numeric,  the_geom geometry, the_geom_webmercator geometry, value numeric);\n",
    "\n",
    "CREATE or REPLACE function getModel(table_name TEXT, weights_raw TEXT) \n",
    "RETURNS SETOF weight_model_1 as $$\n",
    "    DECLARE\n",
    "    query1 TEXT;\n",
    "    weights TEXT;\n",
    "    weights_sum TEXT;\n",
    "    BEGIN\n",
    "        query1:='select array_to_string(array_agg(''( ''|| weights::text || '')'' ), '' * '') as weights, sum(weights_sum)::text as weights_sum from (\n",
    "select array_to_string(array_agg(''( ''|| column_name::text ||'' * ''|| weight::text ||'' ) ''), operation) as weights, sum(weight) as weights_sum, operation from (SELECT (json_populate_recordset(null::weight_input, '' ' || weights_raw || ' '' )).*) as tables where weight is not null group by operation) r';\n",
    "        EXECUTE query1 into weights, weights_sum;\n",
    "\n",
    "        RETURN query EXECUTE 'with ranges as (select  average, the_geom, the_geom_webmercator, min(average) over (), max(average) over (), cartodb_id from (SELECT the_geom, the_geom_webmercator, ('|| weights ||')/('|| weights_sum ||') as average, cartodb_id FROM '|| table_name ||') initial) select cartodb_id::numeric,  the_geom, the_geom_webmercator, (((average-min)/(max-min)))::numeric as value from ranges';\n",
    "\n",
    "    END\n",
    "$$ language 'plpgsql';\n",
    "```\n"
   ]
  },
  {
   "cell_type": "markdown",
   "metadata": {},
   "source": [
    "Example query:\n",
    "\n",
    "```sql\n",
    "select * from getModel('intensification_reduce', '[{\"column_name\":\"wa2\", \"weight\":1, \"operation\":\"+\"},{\"column_name\":\"pa\", \"weight\":4, \"operation\":\"*\"}]')\n",
    "```"
   ]
  },
  {
   "cell_type": "code",
   "execution_count": null,
   "metadata": {},
   "outputs": [],
   "source": []
  }
 ],
 "metadata": {
  "kernelspec": {
   "display_name": "Python 3",
   "language": "python",
   "name": "python3"
  },
  "language_info": {
   "codemirror_mode": {
    "name": "ipython",
    "version": 3
   },
   "file_extension": ".py",
   "mimetype": "text/x-python",
   "name": "python",
   "nbconvert_exporter": "python",
   "pygments_lexer": "ipython3",
   "version": "3.6.5"
  },
  "toc": {
   "colors": {
    "hover_highlight": "#DAA520",
    "navigate_num": "#000000",
    "navigate_text": "#333333",
    "running_highlight": "#FF0000",
    "selected_highlight": "#FFD700",
    "sidebar_border": "#EEEEEE",
    "wrapper_background": "#FFFFFF"
   },
   "moveMenuLeft": true,
   "nav_menu": {
    "height": "30px",
    "width": "252px"
   },
   "navigate_menu": true,
   "number_sections": true,
   "sideBar": true,
   "threshold": "2",
   "toc_cell": true,
   "toc_section_display": "block",
   "toc_window_display": true,
   "widenNotebook": false
  },
  "varInspector": {
   "cols": {
    "lenName": 16,
    "lenType": 16,
    "lenVar": 40
   },
   "kernels_config": {
    "python": {
     "delete_cmd_postfix": "",
     "delete_cmd_prefix": "del ",
     "library": "var_list.py",
     "varRefreshCmd": "print(var_dic_list())"
    },
    "r": {
     "delete_cmd_postfix": ") ",
     "delete_cmd_prefix": "rm(",
     "library": "var_list.r",
     "varRefreshCmd": "cat(var_dic_list()) "
    }
   },
   "types_to_exclude": [
    "module",
    "function",
    "builtin_function_or_method",
    "instance",
    "_Feature"
   ],
   "window_display": false
  }
 },
 "nbformat": 4,
 "nbformat_minor": 2
}
